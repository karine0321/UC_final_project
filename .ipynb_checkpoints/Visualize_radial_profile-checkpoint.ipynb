{
 "cells": [
  {
   "cell_type": "code",
   "execution_count": 1,
   "metadata": {},
   "outputs": [
    {
     "data": {
      "text/plain": [
       "<Figure size 432x432 with 0 Axes>"
      ]
     },
     "metadata": {},
     "output_type": "display_data"
    },
    {
     "data": {
      "image/png": "[encoded data removed]",
      "text/plain": [
       "<Figure size 360x360 with 1 Axes>"
      ]
     },
     "metadata": {
      "needs_background": "light"
     },
     "output_type": "display_data"
    }
   ],
   "source": [
    "import geopandas as gpd\n",
    "import matplotlib.pyplot as plt\n",
    "import geoplot\n",
    "\n",
    "data_path = r'.\\data\\Processed\\covid_bed_pop.shp'\n",
    "shape_data = gpd.read_file(data_path)\n",
    "\n",
    "import seaborn as sns\n",
    "plt.figure(figsize=(6,6))\n",
    "sns_plot = sns.catplot(x=\"circle\", kind=\"count\", palette=\"ch:.25\", data=shape_data)\n",
    "\n",
    "#sns_plot.savefig('pic2/circlecount.png')"
   ]
  },
  {
   "cell_type": "code",
   "execution_count": null,
   "metadata": {},
   "outputs": [],
   "source": []
  },
  {
   "cell_type": "code",
   "execution_count": 1,
   "metadata": {},
   "outputs": [],
   "source": [
    "import geopandas as gpd\n",
    "import matplotlib.pyplot as plt\n",
    "import geoplot\n",
    "import numpy as np\n",
    "import pandas as pd\n",
    "import os\n",
    "\n",
    "# load processed shapefile\n",
    "new_shp = gpd.read_file(\"./data/Processed/covid_bed_pop.shp\")"
   ]
  },
  {
   "cell_type": "code",
   "execution_count": 2,
   "metadata": {},
   "outputs": [],
   "source": [
    "# every 87,000m draw a circle\n",
    "\n",
    "def draw_circle(d):\n",
    "    return int(d//87000)\n",
    "\n",
    "new_shp['circle'] = new_shp.apply(lambda x: draw_circle(x.distance), axis = 1)\n",
    "#new_shp"
   ]
  },
  {
   "cell_type": "code",
   "execution_count": 3,
   "metadata": {},
   "outputs": [],
   "source": [
    "import geopandas as gpd\n",
    "state_path = r'data\\cb_2018_us_state_500k\\cb_2018_us_state_500k.shp'\n",
    "shape_state = gpd.read_file(state_path)\n",
    "shape_state = shape_state[shape_state.NAME != 'Alaska']\n",
    "shape_state = shape_state[shape_state.NAME != 'Hawaii']\n",
    "shape_state = shape_state[shape_state.NAME != 'Commonwealth of the Northern Mariana Islands']\n",
    "shape_state = shape_state[shape_state.NAME != 'United States Virgin Islands']\n",
    "shape_state = shape_state[shape_state.NAME != 'Puerto Rico']\n",
    "shape_state = shape_state[shape_state.NAME != 'Guam']\n",
    "shape_state = shape_state[shape_state.NAME != 'American Samoa']\n",
    "#shape_state"
   ]
  },
  {
   "cell_type": "code",
   "execution_count": 4,
   "metadata": {},
   "outputs": [
    {
     "data": {
      "text/plain": [
       "[680.0909090909091,\n",
       " 359.6774193548387,\n",
       " 477.17021276595744,\n",
       " 662.3469387755102,\n",
       " 80.93478260869566,\n",
       " 317.04,\n",
       " 109.22222222222223,\n",
       " 98.125,\n",
       " 16.22222222222222,\n",
       " 1233.0]"
      ]
     },
     "execution_count": 4,
     "metadata": {},
     "output_type": "execute_result"
    }
   ],
   "source": [
    "circle_group_bed = new_shp.groupby([\"STATE_NAME\",\"circle\"])[\"BEDS\"].mean()\n",
    "#circle_group_bed\n",
    "g_tex = circle_group_bed.loc[\"Texas\"]\n",
    "list(g_tex[[0]].values)[0]\n",
    "list(g_tex.values)"
   ]
  },
  {
   "cell_type": "code",
   "execution_count": 5,
   "metadata": {
    "scrolled": true
   },
   "outputs": [
    {
     "name": "stderr",
     "output_type": "stream",
     "text": [
      "C:\\Users\\13010\\Anaconda3\\lib\\site-packages\\ipykernel_launcher.py:6: SettingWithCopyWarning: \n",
      "A value is trying to be set on a copy of a slice from a DataFrame.\n",
      "Try using .loc[row_indexer,col_indexer] = value instead\n",
      "\n",
      "See the caveats in the documentation: https://pandas.pydata.org/pandas-docs/stable/user_guide/indexing.html#returning-a-view-versus-a-copy\n",
      "  \n"
     ]
    },
    {
     "data": {
      "text/html": [
       "<div>\n",
       "<style scoped>\n",
       "    .dataframe tbody tr th:only-of-type {\n",
       "        vertical-align: middle;\n",
       "    }\n",
       "\n",
       "    .dataframe tbody tr th {\n",
       "        vertical-align: top;\n",
       "    }\n",
       "\n",
       "    .dataframe thead th {\n",
       "        text-align: right;\n",
       "    }\n",
       "</style>\n",
       "<table border=\"1\" class=\"dataframe\">\n",
       "  <thead>\n",
       "    <tr style=\"text-align: right;\">\n",
       "      <th></th>\n",
       "      <th>NAME</th>\n",
       "      <th>STATE_NAME</th>\n",
       "      <th>STATE_FIPS</th>\n",
       "      <th>CNTY_FIPS</th>\n",
       "      <th>FIPS</th>\n",
       "      <th>distance</th>\n",
       "      <th>COVID</th>\n",
       "      <th>population</th>\n",
       "      <th>BEDS</th>\n",
       "      <th>circle</th>\n",
       "      <th>geometry</th>\n",
       "      <th>profile</th>\n",
       "    </tr>\n",
       "  </thead>\n",
       "  <tbody>\n",
       "    <tr>\n",
       "      <th>1849</th>\n",
       "      <td>Lipscomb</td>\n",
       "      <td>Texas</td>\n",
       "      <td>48</td>\n",
       "      <td>295</td>\n",
       "      <td>48295</td>\n",
       "      <td>713158.212987</td>\n",
       "      <td>2</td>\n",
       "      <td>3233.0</td>\n",
       "      <td>0.0</td>\n",
       "      <td>8</td>\n",
       "      <td>POLYGON ((-100.00727 36.49391, -100.00155 36.4...</td>\n",
       "      <td>16.222222</td>\n",
       "    </tr>\n",
       "    <tr>\n",
       "      <th>1850</th>\n",
       "      <td>Sherman</td>\n",
       "      <td>Texas</td>\n",
       "      <td>48</td>\n",
       "      <td>421</td>\n",
       "      <td>48421</td>\n",
       "      <td>774590.539552</td>\n",
       "      <td>23</td>\n",
       "      <td>3022.0</td>\n",
       "      <td>0.0</td>\n",
       "      <td>8</td>\n",
       "      <td>POLYGON ((-102.16803 36.05466, -102.16567 36.4...</td>\n",
       "      <td>16.222222</td>\n",
       "    </tr>\n",
       "    <tr>\n",
       "      <th>1852</th>\n",
       "      <td>Dallam</td>\n",
       "      <td>Texas</td>\n",
       "      <td>48</td>\n",
       "      <td>111</td>\n",
       "      <td>48111</td>\n",
       "      <td>805796.118104</td>\n",
       "      <td>14</td>\n",
       "      <td>7287.0</td>\n",
       "      <td>0.0</td>\n",
       "      <td>9</td>\n",
       "      <td>POLYGON ((-102.16803 36.05466, -103.02405 36.0...</td>\n",
       "      <td>1233.000000</td>\n",
       "    </tr>\n",
       "    <tr>\n",
       "      <th>1853</th>\n",
       "      <td>Hansford</td>\n",
       "      <td>Texas</td>\n",
       "      <td>48</td>\n",
       "      <td>195</td>\n",
       "      <td>48195</td>\n",
       "      <td>745395.458843</td>\n",
       "      <td>12</td>\n",
       "      <td>5399.0</td>\n",
       "      <td>25.0</td>\n",
       "      <td>8</td>\n",
       "      <td>POLYGON ((-101.61994 36.05475, -101.62076 36.4...</td>\n",
       "      <td>16.222222</td>\n",
       "    </tr>\n",
       "    <tr>\n",
       "      <th>1862</th>\n",
       "      <td>Ochiltree</td>\n",
       "      <td>Texas</td>\n",
       "      <td>48</td>\n",
       "      <td>357</td>\n",
       "      <td>48357</td>\n",
       "      <td>728887.926954</td>\n",
       "      <td>29</td>\n",
       "      <td>9836.0</td>\n",
       "      <td>25.0</td>\n",
       "      <td>8</td>\n",
       "      <td>POLYGON ((-101.08275 36.05630, -101.09010 36.4...</td>\n",
       "      <td>16.222222</td>\n",
       "    </tr>\n",
       "    <tr>\n",
       "      <th>...</th>\n",
       "      <td>...</td>\n",
       "      <td>...</td>\n",
       "      <td>...</td>\n",
       "      <td>...</td>\n",
       "      <td>...</td>\n",
       "      <td>...</td>\n",
       "      <td>...</td>\n",
       "      <td>...</td>\n",
       "      <td>...</td>\n",
       "      <td>...</td>\n",
       "      <td>...</td>\n",
       "      <td>...</td>\n",
       "    </tr>\n",
       "    <tr>\n",
       "      <th>2911</th>\n",
       "      <td>Kenedy</td>\n",
       "      <td>Texas</td>\n",
       "      <td>48</td>\n",
       "      <td>261</td>\n",
       "      <td>48261</td>\n",
       "      <td>364957.740589</td>\n",
       "      <td>0</td>\n",
       "      <td>404.0</td>\n",
       "      <td>0.0</td>\n",
       "      <td>4</td>\n",
       "      <td>MULTIPOLYGON (((-97.96403 26.61310, -97.99179 ...</td>\n",
       "      <td>80.934783</td>\n",
       "    </tr>\n",
       "    <tr>\n",
       "      <th>2915</th>\n",
       "      <td>Starr</td>\n",
       "      <td>Texas</td>\n",
       "      <td>48</td>\n",
       "      <td>427</td>\n",
       "      <td>48427</td>\n",
       "      <td>434101.733396</td>\n",
       "      <td>14</td>\n",
       "      <td>64633.0</td>\n",
       "      <td>48.0</td>\n",
       "      <td>4</td>\n",
       "      <td>POLYGON ((-98.60027 26.26080, -98.67822 26.242...</td>\n",
       "      <td>80.934783</td>\n",
       "    </tr>\n",
       "    <tr>\n",
       "      <th>2916</th>\n",
       "      <td>Hidalgo</td>\n",
       "      <td>Texas</td>\n",
       "      <td>48</td>\n",
       "      <td>215</td>\n",
       "      <td>48215</td>\n",
       "      <td>443598.323715</td>\n",
       "      <td>389</td>\n",
       "      <td>868707.0</td>\n",
       "      <td>2386.0</td>\n",
       "      <td>5</td>\n",
       "      <td>POLYGON ((-98.60027 26.26080, -98.34157 26.787...</td>\n",
       "      <td>317.040000</td>\n",
       "    </tr>\n",
       "    <tr>\n",
       "      <th>2918</th>\n",
       "      <td>Willacy</td>\n",
       "      <td>Texas</td>\n",
       "      <td>48</td>\n",
       "      <td>489</td>\n",
       "      <td>48489</td>\n",
       "      <td>424602.486176</td>\n",
       "      <td>14</td>\n",
       "      <td>21358.0</td>\n",
       "      <td>0.0</td>\n",
       "      <td>4</td>\n",
       "      <td>MULTIPOLYGON (((-97.86923 26.34870, -97.87389 ...</td>\n",
       "      <td>80.934783</td>\n",
       "    </tr>\n",
       "    <tr>\n",
       "      <th>2920</th>\n",
       "      <td>Cameron</td>\n",
       "      <td>Texas</td>\n",
       "      <td>48</td>\n",
       "      <td>061</td>\n",
       "      <td>48061</td>\n",
       "      <td>460990.926317</td>\n",
       "      <td>512</td>\n",
       "      <td>423163.0</td>\n",
       "      <td>1519.0</td>\n",
       "      <td>5</td>\n",
       "      <td>MULTIPOLYGON (((-97.25150 26.41965, -97.23236 ...</td>\n",
       "      <td>317.040000</td>\n",
       "    </tr>\n",
       "  </tbody>\n",
       "</table>\n",
       "<p>254 rows × 12 columns</p>\n",
       "</div>"
      ],
      "text/plain": [
       "           NAME STATE_NAME STATE_FIPS CNTY_FIPS   FIPS       distance  COVID  \\\n",
       "1849   Lipscomb      Texas         48       295  48295  713158.212987      2   \n",
       "1850    Sherman      Texas         48       421  48421  774590.539552     23   \n",
       "1852     Dallam      Texas         48       111  48111  805796.118104     14   \n",
       "1853   Hansford      Texas         48       195  48195  745395.458843     12   \n",
       "1862  Ochiltree      Texas         48       357  48357  728887.926954     29   \n",
       "...         ...        ...        ...       ...    ...            ...    ...   \n",
       "2911     Kenedy      Texas         48       261  48261  364957.740589      0   \n",
       "2915      Starr      Texas         48       427  48427  434101.733396     14   \n",
       "2916    Hidalgo      Texas         48       215  48215  443598.323715    389   \n",
       "2918    Willacy      Texas         48       489  48489  424602.486176     14   \n",
       "2920    Cameron      Texas         48       061  48061  460990.926317    512   \n",
       "\n",
       "      population    BEDS  circle  \\\n",
       "1849      3233.0     0.0       8   \n",
       "1850      3022.0     0.0       8   \n",
       "1852      7287.0     0.0       9   \n",
       "1853      5399.0    25.0       8   \n",
       "1862      9836.0    25.0       8   \n",
       "...          ...     ...     ...   \n",
       "2911       404.0     0.0       4   \n",
       "2915     64633.0    48.0       4   \n",
       "2916    868707.0  2386.0       5   \n",
       "2918     21358.0     0.0       4   \n",
       "2920    423163.0  1519.0       5   \n",
       "\n",
       "                                               geometry      profile  \n",
       "1849  POLYGON ((-100.00727 36.49391, -100.00155 36.4...    16.222222  \n",
       "1850  POLYGON ((-102.16803 36.05466, -102.16567 36.4...    16.222222  \n",
       "1852  POLYGON ((-102.16803 36.05466, -103.02405 36.0...  1233.000000  \n",
       "1853  POLYGON ((-101.61994 36.05475, -101.62076 36.4...    16.222222  \n",
       "1862  POLYGON ((-101.08275 36.05630, -101.09010 36.4...    16.222222  \n",
       "...                                                 ...          ...  \n",
       "2911  MULTIPOLYGON (((-97.96403 26.61310, -97.99179 ...    80.934783  \n",
       "2915  POLYGON ((-98.60027 26.26080, -98.67822 26.242...    80.934783  \n",
       "2916  POLYGON ((-98.60027 26.26080, -98.34157 26.787...   317.040000  \n",
       "2918  MULTIPOLYGON (((-97.86923 26.34870, -97.87389 ...    80.934783  \n",
       "2920  MULTIPOLYGON (((-97.25150 26.41965, -97.23236 ...   317.040000  \n",
       "\n",
       "[254 rows x 12 columns]"
      ]
     },
     "execution_count": 5,
     "metadata": {},
     "output_type": "execute_result"
    }
   ],
   "source": [
    "def circle_value(circle):\n",
    "#     print(circle)\n",
    "    return list(g_tex[[circle]].values)[0]\n",
    "\n",
    "shp_tex = new_shp[new_shp[\"STATE_NAME\"]==\"Texas\"]\n",
    "shp_tex[\"profile\"] = shp_tex[\"circle\"].apply(lambda x: circle_value(x))\n",
    "shp_tex"
   ]
  },
  {
   "cell_type": "code",
   "execution_count": 7,
   "metadata": {},
   "outputs": [
    {
     "data": {
      "text/plain": [
       "[16, 80, 98, 109, 317, 359, 477, 662, 680, 1233]"
      ]
     },
     "execution_count": 7,
     "metadata": {},
     "output_type": "execute_result"
    }
   ],
   "source": [
    "# shp_tex['profile'].round(0)\n",
    "shp_tex['profile'] = shp_tex['profile'].astype(int)\n",
    "keys = sorted(list(shp_tex['profile'].unique()))\n",
    "keys"
   ]
  },
  {
   "cell_type": "code",
   "execution_count": 8,
   "metadata": {},
   "outputs": [
    {
     "data": {
      "image/png": "[encoded data removed]",
      "text/plain": [
       "<Figure size 576x432 with 11 Axes>"
      ]
     },
     "metadata": {
      "needs_background": "light"
     },
     "output_type": "display_data"
    }
   ],
   "source": [
    "#https://towardsdatascience.com/create-categorical-choropleth-with-python-122da5ae6764\n",
    "colors= ['#cec610','#c9ae0d','#be8509','#b56105','#b15604','#ab4202','#a52f01','#7f2000','#5f1800','#431100']\n",
    "\n",
    "color_dict = dict(zip(keys, colors))\n",
    "#color_dict[‘No data’] = ‘lightgray’\n",
    "\n",
    "#grid\n",
    "row_count = shp_tex['profile'].nunique()\n",
    "ax_list = []\n",
    "for i in range(row_count+1):\n",
    "    ax_list.append('ax' + str(i+1))\n",
    "    ax_string = ','.join(ax_list)\n",
    "\n",
    "#plotgrid with 4 columns and N number of rows.\n",
    "fig, (ax_string) = plt.subplots(row_count, 4, figsize=(8,6))\n",
    "\n",
    "\n",
    "# plot map\n",
    "ax1 = plt.subplot2grid((row_count,4),(0,1), rowspan=row_count, colspan=3)\n",
    "for index, row in shp_tex.iterrows():\n",
    "    plot = shp_tex[shp_tex['profile'] == row['profile']].plot(color=color_dict[row['profile']], ax=ax1)\n",
    "ax1.axis('off')\n",
    "\n",
    "# plot legend\n",
    "row_counter = 0\n",
    "#for i in shp_tex['profile'].unique():\n",
    "for i in keys:\n",
    "    plt.subplot2grid((row_count,4),(row_counter,0))\n",
    "    plt.pie([1],labels=[i],radius=0.4, colors=[color_dict[i]])\n",
    "    plt.axis('off')\n",
    "    row_counter += 1\n",
    "    \n",
    "# fig.savefig('pic2\\spt_4.png')"
   ]
  },
  {
   "cell_type": "code",
   "execution_count": null,
   "metadata": {},
   "outputs": [],
   "source": []
  }
 ],
 "metadata": {
  "kernelspec": {
   "display_name": "Python 3",
   "language": "python",
   "name": "python3"
  },
  "language_info": {
   "codemirror_mode": {
    "name": "ipython",
    "version": 3
   },
   "file_extension": ".py",
   "mimetype": "text/x-python",
   "name": "python",
   "nbconvert_exporter": "python",
   "pygments_lexer": "ipython3",
   "version": "3.7.3"
  }
 },
 "nbformat": 4,
 "nbformat_minor": 4
}
